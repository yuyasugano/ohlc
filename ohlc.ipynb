{
 "cells": [
  {
   "cell_type": "code",
   "execution_count": 1,
   "metadata": {},
   "outputs": [],
   "source": [
    "#!/usr/bin/python\n",
    "import csv\n",
    "import time\n",
    "import json\n",
    "import requests\n",
    "import numpy as np\n",
    "import pandas as pd\n",
    "from datetime import datetime"
   ]
  },
  {
   "cell_type": "code",
   "execution_count": 2,
   "metadata": {},
   "outputs": [],
   "source": [
    "headers = {'Content-Type': 'application/json'}\n",
    "api_url_base = 'https://public.bitbank.cc'\n",
    "pair = 'btc_jpy'\n",
    "period = '1min'\n",
    "\n",
    "today = \"{0:%Y%m%d}\".format(datetime.today())"
   ]
  },
  {
   "cell_type": "code",
   "execution_count": 3,
   "metadata": {},
   "outputs": [],
   "source": [
    "def api_ohlcv():\n",
    "    api_url = '{0}/{1}/candlestick/{2}/{3}'.format(api_url_base, pair, period, today)\n",
    "    response = requests.get(api_url, headers=headers)\n",
    "\n",
    "    if response.status_code == 200:\n",
    "        ohlcv = json.loads(response.content.decode('utf-8'))['data']['candlestick'][0]['ohlcv']\n",
    "        return ohlcv\n",
    "    else:\n",
    "        return None"
   ]
  },
  {
   "cell_type": "code",
   "execution_count": 4,
   "metadata": {},
   "outputs": [],
   "source": [
    "ohlcv = api_ohlcv()\n",
    "open, high, low, close, volume, timestamp = [],[],[],[],[],[]\n",
    "for i in ohlcv:\n",
    "    open.append(i[0])\n",
    "    high.append(i[1])\n",
    "    low.append(i[2])\n",
    "    close.append(i[3])\n",
    "    volume.append(i[4])\n",
    "    time_str = str(i[5])\n",
    "    timestamp.append(datetime.fromtimestamp(int(time_str[:10])).strftime('%Y/%m/%d %H:%M:%M'))\n",
    "\n",
    "date_time_index = pd.to_datetime(timestamp) # convert to DateTimeIndex type\n",
    "df = pd.DataFrame({'open': open, 'high': high, 'low': low, 'close': close}, index=date_time_index) # volume is not contained\n",
    "# adjustment for JST if required\n",
    "# df.index += pd.offsets.Hour(9) # adjustment for JST"
   ]
  },
  {
   "cell_type": "code",
   "execution_count": 5,
   "metadata": {},
   "outputs": [
    {
     "name": "stdout",
     "output_type": "stream",
     "text": [
      "                        open     high      low    close\n",
      "2019-08-17 00:00:00  1101000  1101001  1101000  1101001\n",
      "2019-08-17 00:01:01  1101002  1103059  1101002  1103031\n",
      "2019-08-17 00:02:02  1101375  1101802  1101001  1101001\n",
      "2019-08-17 00:03:03  1101002  1101002  1100000  1100000\n",
      "2019-08-17 00:04:04  1100000  1100000  1098925  1098925\n"
     ]
    }
   ],
   "source": [
    "print(df.head(5))\n",
    "df.to_csv('ohlc.csv') # export as csv"
   ]
  }
 ],
 "metadata": {
  "kernelspec": {
   "display_name": "Python 3",
   "language": "python",
   "name": "python3"
  },
  "language_info": {
   "codemirror_mode": {
    "name": "ipython",
    "version": 3
   },
   "file_extension": ".py",
   "mimetype": "text/x-python",
   "name": "python",
   "nbconvert_exporter": "python",
   "pygments_lexer": "ipython3",
   "version": "3.7.3"
  }
 },
 "nbformat": 4,
 "nbformat_minor": 2
}
